{
 "cells": [
  {
   "cell_type": "markdown",
   "id": "2585782b",
   "metadata": {},
   "source": [
    "# Entri Interview Challenge <img src=\"Entri-Logo.png\" width=\"150\" align=\"right\">\n",
    "<font color=grey>*Sun,Nov 28,2021*</font>"
   ]
  },
  {
   "cell_type": "markdown",
   "id": "bccc8cf6",
   "metadata": {},
   "source": [
    "## Quick Intro\n",
    "This case study is a part of my interview process in [Entri](https://entri.me/) for the role of Data Analyst."
   ]
  },
  {
   "cell_type": "markdown",
   "id": "55605651",
   "metadata": {},
   "source": [
    "## Scenario\n",
    "I am completing a challenge as a part of the interview for the role of Data Analyst in [Entri](https://entri.me/), India's Vernacular Learning and Preparation Platform for Jobs, focused on helping people acquire relevant job skills. A dataset containing the user details, subscriptions, quiz attempts, videos watched, and interacted study cards are provided. The objective is to analyze the above dataset and share my insights based on the analysis."
   ]
  },
  {
   "cell_type": "markdown",
   "id": "f04aec8f",
   "metadata": {},
   "source": [
    "## Questions answered\n",
    "- Paid vs Unpaid - Difference in user behaviour in the first week.\n",
    "- Per-user targets aimed towards increasing the conversion percentage."
   ]
  },
  {
   "cell_type": "markdown",
   "id": "5309edcd",
   "metadata": {},
   "source": [
    "## Data Preparation\n",
    "To find out the difference in user behavior between the paid and unpaid users we need to collect the data containing the user details, the courses they subscribed to, and the time spend for the completion of the course. Thus, Gain insight into the user's behavior patterns; allowing us to follow up and design suitable per-user targets beneficial to increasing the conversion percentage.\n",
    "\n",
    "The following data were provided:\n",
    "\n",
    "- User Details 1000 random users from a fixed time-period\n",
    "    - User UID, Date Joined, Date of First Purchase (if they have made a purchase)\n",
    "    \n",
    "- Track subscriptions of the 1000 users in the previous data set.\n",
    "    - User UID, Track Slug (Track = Course category)\n",
    "    \n",
    "- Quiz Attempts of the 1000 users in the first data set.\n",
    "    - User UID, Quiz Attempt UID, Start Datetime, Status, Total Number of questions in the quiz, Number of questions attempted\n",
    "    \n",
    "- Video Watch history of the 1000 users in the first data set\n",
    "    - User UID, Activity UID, Start Datetime, Duration of the Video, Watched Duration\n",
    "    \n",
    "- Study Cards interacted by the 1000 users in the first data set\n",
    "    - User UID, Activity UID, Start Datetime"
   ]
  },
  {
   "cell_type": "markdown",
   "id": "b969e473",
   "metadata": {},
   "source": [
    "## Data Processing\n",
    "The user details table had the data on 1000 random users, both subscribed and not subscribed. So, I started out by filtering out the subscribed users from the table using SQL. The data provided could not be directly used for analysis as there were data entry errors, where the purchase dates were before the date of joining. These rows were removed as they may cause problems during the analysis. I also filtered out the other sheets to only include data on the users from the previous table."
   ]
  },
  {
   "cell_type": "markdown",
   "id": "950dd8ab",
   "metadata": {},
   "source": [
    "## Analysis\n",
    "I started out by adding columns to the user details table which included the days taken by the user to make their first purchase after joining and the total number of courses each user purchased. I used functions and pivot tables to summarize the data from each sheet and converted the results into charts for greater understanding."
   ]
  },
  {
   "cell_type": "markdown",
   "id": "445fd519",
   "metadata": {},
   "source": [
    "## Observations\n",
    "By creating a pie chart using the number of users that purchased vs the users who didn't, we can see that the number of people who purchase the courses is slightly higher than half of the total number of users who join. <br> <img src=\"charts/paid_vs_unpaid.png\" width=\"400px\"> <br> <font color=grey><center>*About 54% of the total users who join make a purchase*</center></font>\n",
    "<br>\n",
    "Further examining the number of days taken by the user to make their first purchase, we can see that most users purchase within the very first week. As time passes the likeliness of a purchase happening decreases. This suggests that the users that pay were most likely predetermined to make a purchase. <br> <img src=\"charts/per_week_distribution.png\" width=\"650\"> <br> <font color=grey><center>*About 82% of the total purchase are made within the very first week*</center></font>\n",
    "<br>\n",
    "The users have purchased the Spoken English-Hindi course the most, followed by Kerala PSC, Spoken Hindi, and so on. We can see that the top 5 purchased courses make up 50% of the total purchases. This indicate that these courses are really effective and helpful, but also makes us wonder about the other courses. <br> <img src=\"charts/courses_purchased.png\" width=\"425\"> <br> <font color=grey><center>*50% of the total sales depend solely on 5 courses*</center></font>\n",
    "<br>\n",
    "By inspecting the status of quiz attempts made by the users, it is evident that most users are able to complete the quizzes in their attempts. The attempts that are recorded as paused or in progress are only 2% and 1% respectively. <br> <img src=\"charts/attempt_status_bar.png\" width=\"450\"> <br> <font color=grey><center>*Most users are able to complete the quiz if they attempt them properly*</center></font><img src=\"charts/attempt_status_pie.png\" width=\"500\"> <br> <font color=grey><center>*Attempts recorded as paused or in progress make up only 3% of the total attempts*</center></font>\n",
    "<br>\n",
    "The time spent watching the video materials by the user is very low. An average user watches only 38% of the video included with their courses. This hints that there are issues with the quality of video material provided to the user.\n",
    "<img src=\"charts/videos_watched.png\" width=\"500\"> <br> <font color=grey><center>*About 62% of the video materials are left unwatched*</center></font>\n",
    "<br>\n",
    "<font color=grey>*PS: All charts were created using Excel and [Tableau](https://www.tableau.com/)*</font>"
   ]
  },
  {
   "cell_type": "markdown",
   "id": "3b3568c6",
   "metadata": {},
   "source": [
    "## Conclusion\n",
    "To summarize, <br>\n",
    "- More than 50% of the users joining purchase a course and among them, about 82% purchase in the very first week itself. This suggests that the users have heard about the course prior to joining and are predetermined to make the purchase.\n",
    "<br><br>\n",
    "- But, we can see that 50% of the total purchase is distributed among only 5 courses and the rest 61 have a very low number of purchases. This indicates that there are things that can be improved in the case of other courses to attract more users. Surveys can be conducted at the end of each course to get an idea of what made the user purchase the course and the ways to improve the course further.\n",
    "<br><br>\n",
    "- Provide trial periods to users to view a portion of the course for a limited time, within which the user will be able to determine whether the course will be useful to them and make the purchase if interested.\n",
    "<br><br>\n",
    "- We can also point out that the users are not watching/interested in watching the video materials provided with the course, about two-thirds of the material is left unwatched. This might be because of the poor quality of the videos or because the user finds the videos not helpful. A rating system can be given below each video to gauge the videos and make necessary changes to make the videos more interesting and involving.\n",
    "<br><br>\n",
    "- Promote according to the popular trends, and put on advertising on courses that are helpful to the user based on the month; like when an exam is about to take place, promote courses that can help the users perform well in them.\n",
    "<br><br>\n",
    "- Follow-up on the surveys and record them for future use."
   ]
  }
 ],
 "metadata": {
  "kernelspec": {
   "display_name": "Python 3 (ipykernel)",
   "language": "python",
   "name": "python3"
  },
  "language_info": {
   "codemirror_mode": {
    "name": "ipython",
    "version": 3
   },
   "file_extension": ".py",
   "mimetype": "text/x-python",
   "name": "python",
   "nbconvert_exporter": "python",
   "pygments_lexer": "ipython3",
   "version": "3.9.7"
  }
 },
 "nbformat": 4,
 "nbformat_minor": 5
}
